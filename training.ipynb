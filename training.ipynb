{
 "cells": [
  {
   "cell_type": "code",
   "execution_count": 1,
   "metadata": {},
   "outputs": [],
   "source": [
    "import timm\n",
    "import torch\n",
    "import pandas as pd\n",
    "import os\n",
    "import multiprocessing as mp\n",
    "\n",
    "from torchvision import transforms as T\n",
    "from cassava_leaf_disease import CassavaLeafDiseaseDataset\n",
    "from sklearn import model_selection as ms\n",
    "from tqdm import tqdm"
   ]
  },
  {
   "cell_type": "code",
   "execution_count": 5,
   "metadata": {},
   "outputs": [],
   "source": [
    "lr = 1e-3\n",
    "bs = 8\n",
    "best_model = 0.0\n",
    "train_history = []\n",
    "val_history = []\n",
    "device = torch.device(\"cuda:0\")"
   ]
  },
  {
   "cell_type": "code",
   "execution_count": 2,
   "metadata": {},
   "outputs": [],
   "source": [
    "def train_one_epoch(net, criterion, optimizer, train_loader):\n",
    "    epoch_loss = 0.0\n",
    "    epoch_acc = 0.0\n",
    "    total = 0\n",
    "    correct = 0\n",
    "    \n",
    "    progress = tqdm(train_loader, total=len(train_loader))\n",
    "    for i, data in enumerate(progress, 0):\n",
    "        inputs, labels = data\n",
    "        inputs, labels = inputs.to(device), labels.to(device)\n",
    "        optimizer.zero_grad()\n",
    "\n",
    "        outputs = net(inputs)\n",
    "\n",
    "        loss = criterion(outputs, labels)\n",
    "\n",
    "        loss.backward()\n",
    "\n",
    "        epoch_loss += loss.item()\n",
    "\n",
    "        optimizer.step()\n",
    "        progress.set_postfix(loss=(loss.item()))\n",
    "        \n",
    "        _, predicted = torch.max(outputs.data, 1)\n",
    "        total += labels.size(0)\n",
    "        correct += (predicted == labels).sum().item()\n",
    "    \n",
    "    epoch_loss = epoch_loss / len(train_loader)\n",
    "    epoch_acc = correct / total\n",
    "    \n",
    "    print('epoch loss ', epoch_loss, ' epoch acc ', epoch_acc)\n",
    "    train_history.append((epoch_loss, epoch_acc))"
   ]
  },
  {
   "cell_type": "code",
   "execution_count": 3,
   "metadata": {},
   "outputs": [],
   "source": [
    "def val_one_epoch(net, val_loader, epoch):\n",
    "    epoch_loss = 0.0\n",
    "    epoch_acc = 0.0\n",
    "    total = 0\n",
    "    correct = 0\n",
    "    \n",
    "    progress = tqdm(val_loader, total=len(val_loader))\n",
    "    with torch.no_grad():\n",
    "        for i, data in enumerate(tqdm(val_loader), 0):\n",
    "            inputs, labels = data\n",
    "            inputs, labels = inputs.to(device), labels.to(device)\n",
    "            outputs = net(inputs)\n",
    "\n",
    "            loss = criterion(outputs, labels)\n",
    "       \n",
    "            epoch_loss += loss.item()\n",
    "\n",
    "            progress.set_postfix(loss=(loss.item()))\n",
    "\n",
    "            _, predicted = torch.max(outputs.data, 1)\n",
    "            total += labels.size(0)\n",
    "            correct += (predicted == labels).sum().item()\n",
    "\n",
    "        epoch_acc = correct / total\n",
    "        val_history.append((epoch_loss, epoch_acc))\n",
    "        \n",
    "        print('epoch loss ', epoch_loss / len(train_loader), ' epoch acc ', epoch_acc)\n",
    "        \n",
    "        torch.save(vit16.state_dict(), './models/%s.pth'.format(epoch))\n",
    "        \n",
    "        if best_model < epoch_acc:\n",
    "            best_model = epoch_acc\n",
    "            torch.save(vit16.state_dict(), './models/best.pth')"
   ]
  },
  {
   "cell_type": "code",
   "execution_count": 4,
   "metadata": {},
   "outputs": [],
   "source": [
    "data_root = '/newDriver/nam/cassava-leaf-disease'\n",
    "working_root = './'"
   ]
  },
  {
   "cell_type": "code",
   "execution_count": 6,
   "metadata": {},
   "outputs": [],
   "source": [
    "transform = T.Compose([T.ToTensor(),\n",
    "                       T.Resize((384, 384)),\n",
    "                       T.Normalize((0.485, 0.456, 0.406), (0.229, 0.224, 0.225))])\n",
    "\n",
    "df = pd.read_csv(os.path.join(data_root, 'train.csv'))\n",
    "train_df, val_df = ms.train_test_split(df, test_size=0.2, random_state=42, stratify=df.label.values)\n",
    "\n",
    "train_dataset = CassavaLeafDiseaseDataset(data_root, df=train_df, transform=transform)\n",
    "val_dataset = CassavaLeafDiseaseDataset(data_root, df=val_df, transform=transform)\n",
    "\n",
    "train_loader = torch.utils.data.DataLoader(train_dataset, batch_size=bs, shuffle=True, num_workers=mp.cpu_count())\n",
    "val_loader = torch.utils.data.DataLoader(val_dataset, batch_size=bs, shuffle=False, num_workers=mp.cpu_count())"
   ]
  },
  {
   "cell_type": "code",
   "execution_count": 7,
   "metadata": {},
   "outputs": [],
   "source": [
    "vit_model_names = timm.list_models('vit*')\n",
    "vit16 = timm.create_model('vit_base_patch16_384', pretrained=True, num_classes=5).to(device)"
   ]
  },
  {
   "cell_type": "code",
   "execution_count": 8,
   "metadata": {},
   "outputs": [],
   "source": [
    "criterion = torch.nn.CrossEntropyLoss()\n",
    "optimizer = torch.optim.Adam(vit16.parameters(), lr=1e-3)"
   ]
  },
  {
   "cell_type": "code",
   "execution_count": null,
   "metadata": {},
   "outputs": [
    {
     "name": "stderr",
     "output_type": "stream",
     "text": [
      " 98%|█████████▊| 2090/2140 [16:13<00:23,  2.13it/s, loss=0.845]"
     ]
    }
   ],
   "source": [
    "for epoch in range(10):\n",
    "    train_one_epoch(vit16, criterion, optimizer, train_loader)\n",
    "    val_one_epoch(vit16, val_loader, epoch)"
   ]
  }
 ],
 "metadata": {
  "kernelspec": {
   "display_name": "namnd",
   "language": "python",
   "name": "namnd"
  },
  "language_info": {
   "codemirror_mode": {
    "name": "ipython",
    "version": 3
   },
   "file_extension": ".py",
   "mimetype": "text/x-python",
   "name": "python",
   "nbconvert_exporter": "python",
   "pygments_lexer": "ipython3",
   "version": "3.7.0"
  }
 },
 "nbformat": 4,
 "nbformat_minor": 4
}
